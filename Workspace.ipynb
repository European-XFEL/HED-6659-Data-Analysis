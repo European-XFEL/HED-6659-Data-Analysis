{
 "cells": [
  {
   "metadata": {},
   "cell_type": "markdown",
   "source": "# A file to create and combine ideas to be written up into functions",
   "id": "f74be2613c4a3aac"
  },
  {
   "cell_type": "code",
   "id": "initial_id",
   "metadata": {
    "collapsed": true,
    "ExecuteTime": {
     "end_time": "2024-08-14T11:41:31.493703Z",
     "start_time": "2024-08-14T11:41:30.563436Z"
    }
   },
   "source": [
    "import numpy as np\n",
    "import pyFAI\n",
    "import matplotlib.pyplot as plt\n",
    "import time\n",
    "import collections\n",
    "import yaml"
   ],
   "outputs": [],
   "execution_count": 1
  },
  {
   "metadata": {
    "ExecuteTime": {
     "end_time": "2024-08-14T12:02:41.975049Z",
     "start_time": "2024-08-14T12:02:41.971938Z"
    }
   },
   "cell_type": "code",
   "source": [
    "def read_heXRD(file):\n",
    "    read = yaml.load(file, Loader=yaml.FullLoader)\n",
    "    print(read)\n",
    "    energy = read['beam']['energy']\n",
    "    detectors = list(read['detectors'].keys())\n",
    "    data = {'energy': energy}\n",
    "    for detector_name in detectors:\n",
    "        data[detector_name] = {}\n",
    "        data[detector_name]['location'] = np.array(read['detectors'][detector_name]['transform']['translation'], dtype=float)\n",
    "        data[detector_name]['rotation'] = np.array(read['detectors'][detector_name]['transform']['tilt'], dtype=float)\n",
    "        data[detector_name]['detector_shape'] = np.array([read['detectors'][detector_name]['pixels']['columns'], read['detectors'][detector_name]['pixels']['rows']], dtype=float)\n",
    "        data[detector_name]['pixel_size'] = np.array(read['detectors'][detector_name]['pixels']['size'], dtype=float)\n",
    "    print(data)\n",
    "    return data"
   ],
   "id": "4f7a49e7cd1240be",
   "outputs": [],
   "execution_count": 34
  },
  {
   "metadata": {
    "ExecuteTime": {
     "end_time": "2024-08-14T12:02:42.598163Z",
     "start_time": "2024-08-14T12:02:42.592413Z"
    }
   },
   "cell_type": "code",
   "source": [
    "with open(\"Configuration.yml\", 'r') as ymlfile:\n",
    "    output = read_heXRD(ymlfile)"
   ],
   "id": "451090e2c90fac12",
   "outputs": [
    {
     "name": "stdout",
     "output_type": "stream",
     "text": [
      "{'beam': {'energy': 18.0, 'source_distance': inf, 'vector': {'azimuth': 90.0, 'polar_angle': 90.0}}, 'detectors': {'VAREX1': {'buffer': None, 'detector_type': 'planar', 'pixels': {'columns': 2880, 'rows': 2880, 'size': [0.15, 0.15]}, 'transform': {'tilt': [0.0, -0.7853981633974483, 0.0], 'translation': [160.0, -250.0, -170.0]}}, 'VAREX2': {'buffer': None, 'detector_type': 'planar', 'pixels': {'columns': 2880, 'rows': 2880, 'size': [0.15, 0.15]}, 'saturation_level': 14000.0, 'transform': {'tilt': [0.0, -0.7853981633974483, 0.0], 'translation': [160.0, 250.0, -170.0]}}}, 'id': 'instrument', 'oscillation_stage': {'chi': 0.0, 'translation': [0.0, 0.0, 0.0]}}\n",
      "{'energy': 18.0, 'VAREX1': {'location': array([ 160., -250., -170.]), 'rotation': array([ 0.        , -0.78539816,  0.        ]), 'detector_shape': array([2880., 2880.]), 'pixel_size': array([0.15, 0.15])}, 'VAREX2': {'location': array([ 160.,  250., -170.]), 'rotation': array([ 0.        , -0.78539816,  0.        ]), 'detector_shape': array([2880., 2880.]), 'pixel_size': array([0.15, 0.15])}}\n"
     ]
    }
   ],
   "execution_count": 35
  },
  {
   "metadata": {
    "ExecuteTime": {
     "end_time": "2024-08-14T12:01:59.257479Z",
     "start_time": "2024-08-14T12:01:59.255265Z"
    }
   },
   "cell_type": "code",
   "source": "",
   "id": "9d01779e160e6e40",
   "outputs": [],
   "execution_count": 33
  },
  {
   "metadata": {},
   "cell_type": "code",
   "outputs": [],
   "execution_count": null,
   "source": "",
   "id": "8f80ff6a49fdaafe"
  }
 ],
 "metadata": {
  "kernelspec": {
   "display_name": "Python 3",
   "language": "python",
   "name": "python3"
  },
  "language_info": {
   "codemirror_mode": {
    "name": "ipython",
    "version": 2
   },
   "file_extension": ".py",
   "mimetype": "text/x-python",
   "name": "python",
   "nbconvert_exporter": "python",
   "pygments_lexer": "ipython2",
   "version": "2.7.6"
  }
 },
 "nbformat": 4,
 "nbformat_minor": 5
}
