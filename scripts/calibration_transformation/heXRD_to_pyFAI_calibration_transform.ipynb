{
 "cells": [
  {
   "cell_type": "markdown",
   "id": "475136be09186dcd",
   "metadata": {},
   "source": [
    "# This code is designed to transform a chosen .yml file from heXRD into a .poni file readable by pyFAI\n",
    "created: 2024 09  \n",
    "creator: thomas stevens  \n",
    "This code is robust up to rotation angles of +- 90 degrees as it relies on reverse engineering rotation matrices using $\\arcsin$ functions.  \n",
    "You should only need to edit the file names/locations in the second cell to get this to function.  "
   ]
  },
  {
   "cell_type": "code",
   "execution_count": 1,
   "id": "8e9f37f96b111b86",
   "metadata": {
    "ExecuteTime": {
     "end_time": "2024-09-05T15:47:44.194572Z",
     "start_time": "2024-09-05T15:47:44.013651Z"
    }
   },
   "outputs": [],
   "source": [
    "import yaml\n",
    "import hed_6659.conversion as CT"
   ]
  },
  {
   "cell_type": "code",
   "execution_count": 2,
   "id": "59977844f3d2159c",
   "metadata": {
    "ExecuteTime": {
     "end_time": "2024-09-05T15:47:45.206357Z",
     "start_time": "2024-09-05T15:47:45.200280Z"
    }
   },
   "outputs": [],
   "source": [
    "yaml_file = \"Configuration_test\"\n",
    "path = \"../\""
   ]
  },
  {
   "cell_type": "code",
   "execution_count": 3,
   "id": "c304079799d9095d",
   "metadata": {
    "ExecuteTime": {
     "end_time": "2024-09-05T15:47:45.684416Z",
     "start_time": "2024-09-05T15:47:45.670401Z"
    }
   },
   "outputs": [],
   "source": [
    "with open(path + yaml_file + \".yml\", 'r') as read_file:\n",
    "    data = yaml.load(read_file, Loader=yaml.FullLoader)\n",
    "    detectors = list(data['detectors'].keys())\n",
    "    read_file.close()"
   ]
  },
  {
   "cell_type": "code",
   "execution_count": 4,
   "id": "dd302cf92a55fe61",
   "metadata": {
    "ExecuteTime": {
     "end_time": "2024-09-05T15:47:46.275754Z",
     "start_time": "2024-09-05T15:47:46.263300Z"
    }
   },
   "outputs": [],
   "source": [
    "for detector_name in detectors:\n",
    "    heXRD_to_pyFAI = CT.HeXRDToPyFAI(detector_name, data)  # Initialising a class from the 'calibration_transforms.py' file\n",
    "    heXRD_to_pyFAI.hexrd_to_pyfai_params()\n",
    "    with open(path + detector_name + \".poni\", 'w') as write_file:\n",
    "        heXRD_to_pyFAI.write_poni(write_file)\n",
    "        write_file.close()"
   ]
  },
  {
   "cell_type": "code",
   "execution_count": null,
   "id": "ecab00d31e9a00d3",
   "metadata": {
    "ExecuteTime": {
     "end_time": "2024-09-05T15:47:36.559755Z",
     "start_time": "2024-09-05T15:47:36.555438Z"
    }
   },
   "outputs": [],
   "source": []
  }
 ],
 "metadata": {
  "kernelspec": {
   "display_name": "Python 3",
   "language": "python",
   "name": "python3"
  },
  "language_info": {
   "codemirror_mode": {
    "name": "ipython",
    "version": 2
   },
   "file_extension": ".py",
   "mimetype": "text/x-python",
   "name": "python",
   "nbconvert_exporter": "python",
   "pygments_lexer": "ipython2",
   "version": "2.7.6"
  }
 },
 "nbformat": 4,
 "nbformat_minor": 5
}
