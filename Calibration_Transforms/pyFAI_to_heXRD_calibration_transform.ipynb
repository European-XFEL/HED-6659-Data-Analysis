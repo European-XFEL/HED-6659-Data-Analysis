{
 "cells": [
  {
   "metadata": {},
   "cell_type": "markdown",
   "source": [
    "# This code is designed to transform a chosen .poni file from pyFAI into a .yml file readable by heXRD\n",
    "created: 2024 09  \n",
    "creator: thomas stevens  "
   ],
   "id": "299b6a449a08faa1"
  },
  {
   "metadata": {
    "ExecuteTime": {
     "end_time": "2024-09-04T17:02:14.794321Z",
     "start_time": "2024-09-04T17:02:14.482853Z"
    }
   },
   "cell_type": "code",
   "source": [
    "import pyFAI\n",
    "import yaml\n",
    "import calibration_transform as CT"
   ],
   "id": "c72c2c627407838f",
   "outputs": [],
   "execution_count": 1
  },
  {
   "metadata": {
    "ExecuteTime": {
     "end_time": "2024-09-04T17:02:14.797603Z",
     "start_time": "2024-09-04T17:02:14.795323Z"
    }
   },
   "cell_type": "code",
   "source": [
    "# Telling the code where to find the required .poni files and what to call the resultant .yml file. The path applies to both, no file type suffix is required.\n",
    "path = \"../\"\n",
    "read_files = ['V1', 'V2']\n",
    "write_file = 'Configuration_test'"
   ],
   "id": "cca40d8fbc8fe0bf",
   "outputs": [],
   "execution_count": 2
  },
  {
   "metadata": {
    "ExecuteTime": {
     "end_time": "2024-09-04T17:02:14.800640Z",
     "start_time": "2024-09-04T17:02:14.797603Z"
    }
   },
   "cell_type": "code",
   "source": [
    "# Setting up the dictionary for later use\n",
    "data = {'beam':{'energy':0,\n",
    "                'source_distance':'.inf',\n",
    "                'vector':{'azimuth':90.0,\n",
    "                          'polar_angle':90.0}\n",
    "                },\n",
    "        'detectors':{},\n",
    "        'id': 'instrument',\n",
    "        'oscillation_stage':{\n",
    "            'chi':0.0,\n",
    "            'translation':[0,0,0]\n",
    "        }}"
   ],
   "id": "f77c00f817533ef7",
   "outputs": [],
   "execution_count": 3
  },
  {
   "metadata": {
    "ExecuteTime": {
     "end_time": "2024-09-04T17:02:16.138990Z",
     "start_time": "2024-09-04T17:02:15.883206Z"
    }
   },
   "cell_type": "code",
   "source": [
    "# Looping over the files requested\n",
    "for file in read_files:\n",
    "    poni = pyFAI.load(path+file+'.poni')  # Loading in the poni file\n",
    "    pyFAI_to_heXRD = CT.PyFAIToHeXRD(poni)  # Initialising a class from the 'calibration_transforms.py' file\n",
    "    pyFAI_to_heXRD.pyFAI_to_heXRD_params()  # This transforms into the heXRD coordinate system\n",
    "    detector = pyFAI_to_heXRD.write_detector()  # This writes the required information into a dictionary called detector\n",
    "    data['detectors'][file] = detector  # Detector names in the yml file match the names of the poni files\n",
    "    \n",
    "data['beam']['energy'] = pyFAI_to_heXRD.get_energy()"
   ],
   "id": "a196c772638ad649",
   "outputs": [
    {
     "name": "stderr",
     "output_type": "stream",
     "text": [
      "WARNING:silx.opencl.common:Unable to import pyOpenCl. Please install it from: https://pypi.org/project/pyopencl\n"
     ]
    }
   ],
   "execution_count": 4
  },
  {
   "metadata": {
    "ExecuteTime": {
     "end_time": "2024-09-04T17:02:17.232142Z",
     "start_time": "2024-09-04T17:02:17.228106Z"
    }
   },
   "cell_type": "code",
   "source": [
    "# Saving the data in a .yml file\n",
    "with open(path+write_file+'.yml','w') as write_file:\n",
    "    yaml.dump(data, write_file)\n",
    "    write_file.close()"
   ],
   "id": "2b3a3e63b3a8c881",
   "outputs": [],
   "execution_count": 5
  },
  {
   "metadata": {},
   "cell_type": "code",
   "outputs": [],
   "execution_count": null,
   "source": "",
   "id": "d7536cef0e8afdf0"
  }
 ],
 "metadata": {
  "kernelspec": {
   "display_name": "Python 3",
   "language": "python",
   "name": "python3"
  },
  "language_info": {
   "codemirror_mode": {
    "name": "ipython",
    "version": 2
   },
   "file_extension": ".py",
   "mimetype": "text/x-python",
   "name": "python",
   "nbconvert_exporter": "python",
   "pygments_lexer": "ipython2",
   "version": "2.7.6"
  }
 },
 "nbformat": 4,
 "nbformat_minor": 5
}
