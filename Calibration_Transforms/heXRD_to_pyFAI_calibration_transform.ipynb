{
 "cells": [
  {
   "metadata": {},
   "cell_type": "markdown",
   "source": [
    "# This code is designed to transform a chosen .yml file from heXRD into a .poni file readable by pyFAI\n",
    "created: 2024 09  \n",
    "creator: thomas stevens  "
   ],
   "id": "475136be09186dcd"
  },
  {
   "metadata": {
    "ExecuteTime": {
     "end_time": "2024-09-05T15:47:44.194572Z",
     "start_time": "2024-09-05T15:47:44.013651Z"
    }
   },
   "cell_type": "code",
   "source": [
    "import yaml\n",
    "import calibration_transform as CT"
   ],
   "id": "8e9f37f96b111b86",
   "outputs": [],
   "execution_count": 1
  },
  {
   "metadata": {
    "ExecuteTime": {
     "end_time": "2024-09-05T15:47:45.206357Z",
     "start_time": "2024-09-05T15:47:45.200280Z"
    }
   },
   "cell_type": "code",
   "source": [
    "yaml_file = \"Configuration_test\"\n",
    "path = \"../\""
   ],
   "id": "59977844f3d2159c",
   "outputs": [],
   "execution_count": 2
  },
  {
   "metadata": {
    "ExecuteTime": {
     "end_time": "2024-09-05T15:47:45.684416Z",
     "start_time": "2024-09-05T15:47:45.670401Z"
    }
   },
   "cell_type": "code",
   "source": [
    "with open(path + yaml_file + \".yml\", 'r') as read_file:\n",
    "    data = yaml.load(read_file, Loader=yaml.FullLoader)\n",
    "    detectors = list(data['detectors'].keys())\n",
    "    read_file.close()"
   ],
   "id": "c304079799d9095d",
   "outputs": [],
   "execution_count": 3
  },
  {
   "metadata": {
    "ExecuteTime": {
     "end_time": "2024-09-05T15:47:46.275754Z",
     "start_time": "2024-09-05T15:47:46.263300Z"
    }
   },
   "cell_type": "code",
   "source": [
    "for detector_name in detectors:\n",
    "    heXRD_to_pyFAI = CT.HeXRDToPyFAI(detector_name, data)  # Initialising a class from the 'calibration_transforms.py' file\n",
    "    heXRD_to_pyFAI.hexrd_to_pyfai_params()\n",
    "    with open(path + detector_name + \"_test.poni\", 'w') as write_file:\n",
    "        heXRD_to_pyFAI.write_poni(write_file)\n",
    "        write_file.close()"
   ],
   "id": "dd302cf92a55fe61",
   "outputs": [],
   "execution_count": 4
  },
  {
   "metadata": {
    "ExecuteTime": {
     "end_time": "2024-09-05T15:47:36.559755Z",
     "start_time": "2024-09-05T15:47:36.555438Z"
    }
   },
   "cell_type": "code",
   "source": "",
   "id": "ecab00d31e9a00d3",
   "outputs": [],
   "execution_count": null
  }
 ],
 "metadata": {
  "kernelspec": {
   "display_name": "Python 3",
   "language": "python",
   "name": "python3"
  },
  "language_info": {
   "codemirror_mode": {
    "name": "ipython",
    "version": 2
   },
   "file_extension": ".py",
   "mimetype": "text/x-python",
   "name": "python",
   "nbconvert_exporter": "python",
   "pygments_lexer": "ipython2",
   "version": "2.7.6"
  }
 },
 "nbformat": 4,
 "nbformat_minor": 5
}
