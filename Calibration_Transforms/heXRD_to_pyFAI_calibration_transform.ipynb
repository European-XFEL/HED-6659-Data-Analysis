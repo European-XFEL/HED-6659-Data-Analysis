{
 "cells": [
  {
   "metadata": {},
   "cell_type": "markdown",
   "source": [
    "# This code is designed to transform a chosen .yml file from heXRD into a .poni file readable by pyFAI\n",
    "created: 2024 09  \n",
    "creator: thomas stevens  "
   ],
   "id": "475136be09186dcd"
  },
  {
   "metadata": {
    "ExecuteTime": {
     "end_time": "2024-09-04T17:10:21.220074Z",
     "start_time": "2024-09-04T17:10:21.136564Z"
    }
   },
   "cell_type": "code",
   "source": [
    "import yaml\n",
    "import calibration_transform as CT"
   ],
   "id": "8e9f37f96b111b86",
   "outputs": [],
   "execution_count": 1
  },
  {
   "metadata": {
    "ExecuteTime": {
     "end_time": "2024-09-04T17:10:23.033969Z",
     "start_time": "2024-09-04T17:10:23.031209Z"
    }
   },
   "cell_type": "code",
   "source": [
    "read_file = \"Configuration\"\n",
    "path = \"../\""
   ],
   "id": "59977844f3d2159c",
   "outputs": [],
   "execution_count": 2
  },
  {
   "metadata": {
    "ExecuteTime": {
     "end_time": "2024-09-04T17:10:23.624839Z",
     "start_time": "2024-09-04T17:10:23.619666Z"
    }
   },
   "cell_type": "code",
   "source": [
    "with open(path + read_file + \".yml\", 'r') as read_file:\n",
    "    data = yaml.load(read_file, Loader=yaml.FullLoader)\n",
    "    detectors = list(data['detectors'].keys())\n",
    "    read_file.close()"
   ],
   "id": "c304079799d9095d",
   "outputs": [],
   "execution_count": 3
  },
  {
   "metadata": {
    "ExecuteTime": {
     "end_time": "2024-09-04T17:13:06.565372Z",
     "start_time": "2024-09-04T17:10:59.180828Z"
    }
   },
   "cell_type": "code",
   "source": [
    "for detector_name in detectors:\n",
    "    heXRD_to_pyFAI = CT.HeXRDToPyFAI(detector_name, data)  # Initialising a class from the 'calibration_transforms.py' file\n",
    "    heXRD_to_pyFAI.hexrd_to_pyfai_params()\n",
    "    with open(path + detector_name + \"_test.poni\", 'w') as write_file:\n",
    "        heXRD_to_pyFAI.write_poni(write_file)\n",
    "        write_file.close()"
   ],
   "id": "dd302cf92a55fe61",
   "outputs": [
    {
     "name": "stdout",
     "output_type": "stream",
     "text": [
      "[[ 1.          0.          0.        ]\n",
      " [ 0.          0.70710678  0.70710678]\n",
      " [ 0.         -0.70710678  0.70710678]]\n",
      "[[ 1.          0.          0.        ]\n",
      " [ 0.          0.70710678  0.70710678]\n",
      " [ 0.         -0.70710678  0.70710678]]\n"
     ]
    }
   ],
   "execution_count": 6
  },
  {
   "metadata": {
    "ExecuteTime": {
     "end_time": "2024-09-04T17:10:30.634840Z",
     "start_time": "2024-09-04T17:10:30.631982Z"
    }
   },
   "cell_type": "code",
   "source": [
    "import numpy as np\n",
    "print(np.arcsin(0))"
   ],
   "id": "abb59b231dd61d78",
   "outputs": [
    {
     "name": "stdout",
     "output_type": "stream",
     "text": [
      "0.0\n"
     ]
    }
   ],
   "execution_count": 5
  },
  {
   "metadata": {},
   "cell_type": "code",
   "outputs": [],
   "execution_count": null,
   "source": "",
   "id": "ecab00d31e9a00d3"
  }
 ],
 "metadata": {
  "kernelspec": {
   "display_name": "Python 3",
   "language": "python",
   "name": "python3"
  },
  "language_info": {
   "codemirror_mode": {
    "name": "ipython",
    "version": 2
   },
   "file_extension": ".py",
   "mimetype": "text/x-python",
   "name": "python",
   "nbconvert_exporter": "python",
   "pygments_lexer": "ipython2",
   "version": "2.7.6"
  }
 },
 "nbformat": 4,
 "nbformat_minor": 5
}
